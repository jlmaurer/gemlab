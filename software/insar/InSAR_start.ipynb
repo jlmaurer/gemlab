{
 "cells": [
  {
   "cell_type": "markdown",
   "id": "0b43f633-c2f9-4004-ba28-bb8d65231f28",
   "metadata": {},
   "source": [
    "# On-demand InSAR Processing with ASF and ISCE2"
   ]
  },
  {
   "cell_type": "markdown",
   "id": "202141b4-ee6e-4403-a9cc-ee53135846dc",
   "metadata": {},
   "source": [
    "## Search for and download InSAR data"
   ]
  },
  {
   "cell_type": "code",
   "execution_count": 1,
   "id": "4f07a18c-5e1f-4a3c-b883-f3ed6f38f900",
   "metadata": {},
   "outputs": [],
   "source": [
    "import datetime\n",
    "from pathlib import Path\n",
    "\n",
    "import asf_search as asf\n",
    "import numpy as np"
   ]
  },
  {
   "cell_type": "code",
   "execution_count": 2,
   "id": "b2fb0537-b64f-4e47-8a33-ec110efcdb52",
   "metadata": {},
   "outputs": [],
   "source": [
    "bbox = [37, 38, -92, -91] # SNWE"
   ]
  },
  {
   "cell_type": "code",
   "execution_count": 3,
   "id": "714a39fb-bce1-4097-ad42-c7935f32f04b",
   "metadata": {},
   "outputs": [],
   "source": [
    "working_dir = Path('/Users/jlmd9g/Documents/insar_testing/')\n",
    "data_dir = working_dir / 'Data'\n",
    "\n",
    "sd = '2020-01-01T00:00:00Z'\n",
    "ed = '2020-02-01T23:59:59Z'\n",
    "\n",
    "flight_dir = None # ASCENDING or DESCENDING"
   ]
  },
  {
   "cell_type": "code",
   "execution_count": 4,
   "id": "030b34ed-aec3-4d39-bf94-8ecf4a25bb03",
   "metadata": {},
   "outputs": [],
   "source": [
    "opts = {\n",
    "    'platform': asf.PLATFORM.SENTINEL1,\n",
    "    'start': f'{sd}',\n",
    "    'end': f'{ed}',\n",
    "    'processingLevel': 'SLC',\n",
    "    }\n",
    "\n",
    "if flight_dir is not None:\n",
    "    opts['flightDirection'] = flight_dir"
   ]
  },
  {
   "cell_type": "code",
   "execution_count": 5,
   "id": "bfc68fce-39e6-4ab7-ac74-60093cdd6a8e",
   "metadata": {},
   "outputs": [],
   "source": [
    "def make_wkt(bbox):\n",
    "    \"\"\"Create a WKT from a simple SWNE bbox\"\"\"\n",
    "    S, N, W, E = bbox\n",
    "    return f'POLYGON(({W} {S}, {E} {S}, {E} {N}, {W} {N}, {W} {S}))'\n",
    "\n",
    "def id_paths(res):\n",
    "    \"\"\"\n",
    "    Print out the paths (InSAR tracks) from an ASF search.\n",
    "    \n",
    "    res should be the results from geo_search\n",
    "    \"\"\"\n",
    "    paths = []\n",
    "    for r in res:\n",
    "        paths.append(r.properties['pathNumber'])\n",
    "    paths.sort()\n",
    "    return paths, list(set(paths))\n",
    "\n",
    "def select_path(res):\n",
    "    \"\"\"\n",
    "    Algorithm to quickly select a path to process. Take the path\n",
    "    that has the highest number of acquisitions, and if multiple \n",
    "    with the same take the path that has the closest data in time \n",
    "    to the current\n",
    "\n",
    "    res should be the results from geo_search\n",
    "    \"\"\"\n",
    "    ref_time = datetime.datetime.utcnow() - datetime.timedelta(days=100*365)\n",
    "    \n",
    "    # Get the path IDs and paths\n",
    "    paths, path_ids = id_paths(res)\n",
    "    path_ids = np.array(path_ids)\n",
    "\n",
    "    # Get the path ids that have the most acquisitions\n",
    "    num_acq = []\n",
    "    for p in path_ids:\n",
    "        num_acq.append(np.sum(np.array(paths) == p))\n",
    "    max_p = np.array(num_acq == np.max(num_acq))\n",
    "\n",
    "    # if a tie, take the one that has the closest data\n",
    "    # Initialize the search\n",
    "    smallest_diff_time = datetime.datetime.utcnow() - ref_time\n",
    "    end_dates = []\n",
    "    path_to_use = path_ids[0]\n",
    "    potential_paths = path_ids[max_p]\n",
    "    if isinstance(potential_paths, int):\n",
    "        potential_paths = [potential_paths]\n",
    "    \n",
    "    for r in res:\n",
    "        if r.properties['pathNumber'] in potential_paths:\n",
    "            end_time = r.properties['stopTime']\n",
    "            diff_time = datetime.datetime.utcnow() - datetime.datetime.strptime(end_time, '%Y-%m-%dT%H:%M:%SZ')\n",
    "            if diff_time < smallest_diff_time:\n",
    "                smallest_diff_time = diff_time\n",
    "                path_to_use = r.properties['pathNumber']\n",
    "\n",
    "    return path_to_use"
   ]
  },
  {
   "cell_type": "code",
   "execution_count": 6,
   "id": "9c906d6e-e48f-44fe-941a-424b9b1abdda",
   "metadata": {},
   "outputs": [
    {
     "name": "stdout",
     "output_type": "stream",
     "text": [
      "POLYGON((-92 37, -91 37, -91 38, -92 38, -92 37))\n"
     ]
    }
   ],
   "source": [
    "AOI = make_wkt(bbox)\n",
    "print(AOI)"
   ]
  },
  {
   "cell_type": "code",
   "execution_count": 122,
   "id": "69af8e5f-99c1-4147-aea2-7b8bdd155588",
   "metadata": {},
   "outputs": [
    {
     "name": "stderr",
     "output_type": "stream",
     "text": [
      "WARNING:asf_search:Query Time Elapsed 0.2560842037200928\n",
      "WARNING:asf_search:Product Subclassing Time 0.02395319938659668\n",
      "WARNING:asf_search:Page Processing Time 1.71661376953125e-05\n",
      "WARNING:asf_search:Page Time Elapsed 0.3123161792755127\n"
     ]
    },
    {
     "name": "stdout",
     "output_type": "stream",
     "text": [
      "14 results found\n"
     ]
    }
   ],
   "source": [
    "results = asf.geo_search(intersectsWith=AOI, **opts)\n",
    "print(f'{len(results)} results found')"
   ]
  },
  {
   "cell_type": "code",
   "execution_count": 123,
   "id": "67d169e2-9daa-47f6-8f20-fd3e1a6c127f",
   "metadata": {},
   "outputs": [
    {
     "name": "stdout",
     "output_type": "stream",
     "text": [
      "Tracks [92, 165, 63] were found\n"
     ]
    }
   ],
   "source": [
    "paths, path_ids = id_paths(results)\n",
    "print(f'Tracks {path_ids} were found')"
   ]
  },
  {
   "cell_type": "code",
   "execution_count": 124,
   "id": "a506655c-bb56-41b4-b11a-ee29d61453db",
   "metadata": {},
   "outputs": [
    {
     "name": "stdout",
     "output_type": "stream",
     "text": [
      "Track 165 was selected for processing\n"
     ]
    }
   ],
   "source": [
    "picked_path = select_path(results)\n",
    "print(f'Track {picked_path} was selected for processing')"
   ]
  },
  {
   "cell_type": "code",
   "execution_count": 128,
   "id": "705347b4-6b70-429e-8400-eef9d86eda11",
   "metadata": {},
   "outputs": [],
   "source": [
    "opts['relativeOrbit'] = picked_path"
   ]
  },
  {
   "cell_type": "code",
   "execution_count": 129,
   "id": "01348fc9-adc0-4557-b963-8f2b83bf6a62",
   "metadata": {},
   "outputs": [
    {
     "data": {
      "text/plain": [
       "{'platform': 'SENTINEL-1',\n",
       " 'start': '2020-01-01T00:00:00Z',\n",
       " 'end': '2020-02-01T23:59:59Z',\n",
       " 'processingLevel': 'SLC',\n",
       " 'relativeOrbit': 165}"
      ]
     },
     "execution_count": 129,
     "metadata": {},
     "output_type": "execute_result"
    }
   ],
   "source": [
    "opts"
   ]
  },
  {
   "cell_type": "code",
   "execution_count": 130,
   "id": "abe1f017-5c94-4ce7-9066-81a1d7083f3e",
   "metadata": {},
   "outputs": [
    {
     "name": "stderr",
     "output_type": "stream",
     "text": [
      "WARNING:asf_search:Query Time Elapsed 0.20841193199157715\n",
      "WARNING:asf_search:Product Subclassing Time 0.013192176818847656\n",
      "WARNING:asf_search:Page Processing Time 3.314018249511719e-05\n",
      "WARNING:asf_search:Page Time Elapsed 0.25360894203186035\n"
     ]
    },
    {
     "name": "stdout",
     "output_type": "stream",
     "text": [
      "6 results found\n"
     ]
    }
   ],
   "source": [
    "results = asf.geo_search(intersectsWith=AOI, **opts)\n",
    "print(f'{len(results)} results found')"
   ]
  },
  {
   "cell_type": "markdown",
   "id": "673cb97e-8388-4681-8ced-4b9bb4db758a",
   "metadata": {},
   "source": [
    "## Downloading Data\n",
    "\n",
    "In order to download data from ASF, you will need to have and set up your credentials. The simplest and recommended way to do this is to create a .netrc file, which should be placed in your home directory. This file will contain your credentials in the following format: \n",
    "```\n",
    "machine notaserver.nasa.gov\n",
    "    login batman@wayneenterprises.com\n",
    "    password ironmansucks\n",
    "```"
   ]
  },
  {
   "cell_type": "code",
   "execution_count": 141,
   "id": "b817217f-65a1-474c-a6fd-ce0b17624633",
   "metadata": {},
   "outputs": [],
   "source": [
    "results.download(path=data_dir)"
   ]
  },
  {
   "cell_type": "code",
   "execution_count": 144,
   "id": "777d1cfc-54eb-47d2-b319-0fffd2d75607",
   "metadata": {},
   "outputs": [
    {
     "name": "stdout",
     "output_type": "stream",
     "text": [
      "S1A_IW_SLC__1SDV_20200107T000354_20200107T000421_030687_03847E_0CDE.zip\n",
      "S1A_IW_SLC__1SDV_20200107T000419_20200107T000446_030687_03847E_54C0.zip\n",
      "S1A_IW_SLC__1SDV_20200119T000353_20200119T000420_030862_038AA0_046A.zip\n",
      "S1A_IW_SLC__1SDV_20200119T000418_20200119T000445_030862_038AA0_7094.zip\n",
      "S1A_IW_SLC__1SDV_20200131T000353_20200131T000420_031037_0390C2_9A20.zip\n",
      "S1A_IW_SLC__1SDV_20200131T000418_20200131T000445_031037_0390C2_C6D2.zip\n"
     ]
    }
   ],
   "source": [
    "!ls ~/Documents/insar_testing/Data"
   ]
  },
  {
   "cell_type": "code",
   "execution_count": 148,
   "id": "b0996429-cd89-4908-8ea9-60862b2538b2",
   "metadata": {},
   "outputs": [
    {
     "name": "stdout",
     "output_type": "stream",
     "text": [
      "Using default ISCE Path: /Users/jlmd9g/software/mambaforge/envs/insar/lib/python3.11/site-packages/isce\n",
      "Traceback (most recent call last):\n",
      "  File \"/Users/jlmd9g/software/mambaforge/envs/insar/share/isce2/topsStack/stackSentinel.py\", line 17, in <module>\n",
      "    from topsStack.Stack import config, run, sentinelSLC\n",
      "ModuleNotFoundError: No module named 'topsStack'\n"
     ]
    }
   ],
   "source": [
    "!/Users/jlmd9g/software/mambaforge/envs/insar/share/isce2/topsStack/stackSentinel.py --help"
   ]
  },
  {
   "cell_type": "code",
   "execution_count": null,
   "id": "9a422b9f-b806-4f47-9b51-05f87f254f2c",
   "metadata": {},
   "outputs": [],
   "source": []
  }
 ],
 "metadata": {
  "kernelspec": {
   "display_name": "Python 3 (ipykernel)",
   "language": "python",
   "name": "python3"
  },
  "language_info": {
   "codemirror_mode": {
    "name": "ipython",
    "version": 3
   },
   "file_extension": ".py",
   "mimetype": "text/x-python",
   "name": "python",
   "nbconvert_exporter": "python",
   "pygments_lexer": "ipython3",
   "version": "3.11.6"
  }
 },
 "nbformat": 4,
 "nbformat_minor": 5
}
